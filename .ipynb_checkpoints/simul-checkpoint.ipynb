{
 "cells": [
  {
   "cell_type": "code",
   "execution_count": 22,
   "id": "0fc854eb",
   "metadata": {},
   "outputs": [],
   "source": [
    "import numpy as np\n",
    "np.set_printoptions(suppress=True, precision=5, sign=' ')\n",
    "import matplotlib.pylab as plt\n",
    "plt.rcParams['figure.dpi'] = 144  # default 72.0\n",
    "# import mim_control_cpp\n",
    "import pinocchio as pin\n",
    "from bullet_utils.env import BulletEnvWithGround\n",
    "from robot_properties_solo.solo8wrapper import Solo8Robot, Solo8Config\n",
    "from dynamic_graph_head import ThreadHead, SimHead, SimVicon, HoldPDController\n",
    "from scipy.spatial.transform import Rotation\n",
    "from mim_data_utils import DataReader\n",
    "\n",
    "\n",
    "def get_target(*args):\n",
    "    if len(args) == 4:\n",
    "        return np.array(list(args[i//2] for i in range(8))) * np.array([1, -2, 1, -2, -1, 2, -1, 2]) * np.pi\n",
    "    return np.array(args) * np.array([1, -2, 1, -2, -1, 2, -1, 2]) * np.pi"
   ]
  },
  {
   "cell_type": "code",
   "execution_count": 8,
   "id": "e1eb8cc6",
   "metadata": {
    "code_folding": []
   },
   "outputs": [],
   "source": [
    "class MyController:\n",
    "    def __init__(self, head, Kp, Kd, with_sliders=False, num=250):\n",
    "        self.head = head\n",
    "        self.Kp = Kp\n",
    "        self.Kd = Kd\n",
    "\n",
    "        self.slider_scale = np.pi\n",
    "        self.with_sliders = with_sliders\n",
    "\n",
    "        self.joint_positions = head.get_sensor('joint_positions')\n",
    "        self.joint_velocities = head.get_sensor('joint_velocities')\n",
    "\n",
    "        if with_sliders:\n",
    "            self.slider_positions = head.get_sensor('slider_positions')\n",
    "\n",
    "        # variables for trotting\n",
    "        leg_down = 0.1\n",
    "        leg_up = 0.2\n",
    "        self.Targets = (\n",
    "            get_target(leg_down, leg_up, leg_up, leg_down),\n",
    "            get_target(leg_up, leg_down, leg_down, leg_up),\n",
    "        )\n",
    "        self.i_Targets = 0\n",
    "        self.L = None\n",
    "        self.i_L = 0\n",
    "        self.num = num\n",
    "\n",
    "        # GRF z\n",
    "        self.fz = np.zeros(4)\n",
    "\n",
    "    def warmup(self, thread_head):\n",
    "        self.zero_pos = self.joint_positions.copy()\n",
    "\n",
    "        if self.with_sliders:\n",
    "            self.slider_zero_pos = self.map_sliders(self.slider_positions)\n",
    "\n",
    "    def go_zero(self):\n",
    "        # TODO: Make this an interpolation.\n",
    "        self.zero_pos = np.zeros_like(self.zero_pos)\n",
    "\n",
    "        if self.with_sliders:\n",
    "            self.slider_zero_pos = self.map_sliders(self.slider_positions)\n",
    "\n",
    "    def map_sliders(self, sliders):\n",
    "        sliders_out = np.zeros_like(self.joint_positions)\n",
    "        if self.joint_positions.shape[0] == 8:\n",
    "            slider_A = sliders[0]\n",
    "            slider_B = sliders[1]\n",
    "            for i in range(4):\n",
    "                sliders_out[2 * i + 0] = slider_A\n",
    "                sliders_out[2 * i + 1] = 2. * (1. - slider_B)\n",
    "\n",
    "                if i >= 2:\n",
    "                    sliders_out[2 * i + 0] *= -1\n",
    "                    sliders_out[2 * i + 1] *= -1\n",
    "\n",
    "        return sliders_out\n",
    "\n",
    "#     def _sim_imu(self, thread_head):\n",
    "#         head = thread_head.head\n",
    "#         self.imu[0:3] = Rotation.from_quat(\n",
    "#             head._sensor__vicon_base_position[3:7]).as_euler('xyz')\n",
    "#         self.imu[3:6] = head._sensor_imu_gyroscope  # angular rate\n",
    "\n",
    "    def get_vicon(self, name1, name2=None):\n",
    "        return np.hstack(thread_head.vicon.get_state(name1 + '/' + (name1 if name2 is None else name2)))\n",
    "    \n",
    "    def _vicon(self, thread_head):\n",
    "#         self.vicon_leg_fr = self.get_vicon('solo8_fr', 'hopper_foot')\n",
    "#         self.vicon_leg_hl = self.get_vicon('solo8_hl', 'hopper_foot')\n",
    "#         self.vicon_leg_hr = self.get_vicon('solo8_hr', 'hopper_foot')\n",
    "        self.vicon_solo = self.get_vicon('solo8v2')\n",
    "\n",
    "    def _move(self, thread_head):\n",
    "        if self.with_sliders:\n",
    "            self.des_position = self.slider_scale * (\n",
    "                self.map_sliders(self.slider_positions) - self.slider_zero_pos\n",
    "                ) + self.zero_pos\n",
    "        else:\n",
    "\n",
    "            if self.L is None or self.i_L >= len(self.L):\n",
    "                self.L = np.linspace(self.joint_positions,\n",
    "                                     self.Targets[self.i_Targets], num=self.num)\n",
    "                self.i_L = 0\n",
    "                self.i_Targets = (self.i_Targets + 1) % len(self.Targets)\n",
    "\n",
    "            self.des_position = self.L[self.i_L]\n",
    "            self.i_L += 1\n",
    "\n",
    "            \n",
    "\n",
    "    def _GRF(self, thread_head):\n",
    "        head = thread_head.head\n",
    "        PR = head._robot.pin_robot\n",
    "        vicon = thread_head.vicon.get_state('solo8v2/solo8v2')\n",
    "        q = np.hstack((vicon[0], head.get_sensor('joint_positions')))\n",
    "        v = np.hstack((vicon[1], head.get_sensor('joint_velocities')))\n",
    "        PR.computeJointJacobians(q)\n",
    "\n",
    "        f = np.empty((4,3))\n",
    "        for i, endeff_name in enumerate(['FL_ANKLE', 'FR_ANKLE', 'HL_ANKLE', 'HR_ANKLE']):\n",
    "            frame_id = robot.pin_robot.model.getFrameId(endeff_name)\n",
    "            PR.framePlacement(q, index=frame_id)\n",
    "            J = robot.pin_robot.getFrameJacobian(frame_id=frame_id, rf_frame=pin.ReferenceFrame.LOCAL_WORLD_ALIGNED)\n",
    "            J_inv = np.linalg.pinv(J[:3][:,6+2*i:8+2*i].T) * -1\n",
    "            h = robot.pin_robot.nle(q, v)\n",
    "            F = np.hstack((np.zeros(6), thread_head.active_controllers[0].tau))\n",
    "            f[i] = J_inv @ ((F - h)[6+2*i:8+2*i])\n",
    "            \n",
    "        self.fz = f[:, 2]\n",
    "        return f\n",
    "\n",
    "    def run(self, thread_head):\n",
    "        self._move(thread_head)  # calculate tau\n",
    "#         self._sim_imu(thread_head)  # simulate imu output\n",
    "        self._vicon(thread_head)  # vicon objects\n",
    "        self._GRF(thread_head)  # calculate GRF\n",
    "\n",
    "        self.tau = self.Kp * (self.des_position - self.joint_positions) - self.Kd * self.joint_velocities\n",
    "#         self.tau = np.zeros(8)\n",
    "        thread_head.head.set_control('ctrl_joint_torques', self.tau)\n",
    "    \n",
    "    \n",
    "class ResetController:\n",
    "    def __init__(self):\n",
    "        pass\n",
    "\n",
    "    def warmup(self, thread_head):\n",
    "        pass\n",
    "\n",
    "    def run(self, thread_head):\n",
    "        self.tau = np.zeros(8)\n",
    "        thread_head.head.set_control('ctrl_joint_torques', self.tau)"
   ]
  },
  {
   "cell_type": "code",
   "execution_count": 9,
   "id": "60858856",
   "metadata": {},
   "outputs": [
    {
     "ename": "error",
     "evalue": "Only one local in-process GUI/GUI_SERVER connection allowed. Use DIRECT connection mode or start a separate GUI physics server (ExampleBrowser, App_SharedMemoryPhysics_GUI, App_SharedMemoryPhysics_VR) and connect over SHARED_MEMORY, UDP or TCP instead.",
     "output_type": "error",
     "traceback": [
      "\u001b[0;31m---------------------------------------------------------------------------\u001b[0m",
      "\u001b[0;31merror\u001b[0m                                     Traceback (most recent call last)",
      "\u001b[0;32m<ipython-input-9-928b7a7e629b>\u001b[0m in \u001b[0;36m<module>\u001b[0;34m\u001b[0m\n\u001b[0;32m----> 1\u001b[0;31m \u001b[0mbullet_env\u001b[0m \u001b[0;34m=\u001b[0m \u001b[0mBulletEnvWithGround\u001b[0m\u001b[0;34m(\u001b[0m\u001b[0;34m)\u001b[0m\u001b[0;34m\u001b[0m\u001b[0;34m\u001b[0m\u001b[0m\n\u001b[0m\u001b[1;32m      2\u001b[0m \u001b[0mrobot\u001b[0m \u001b[0;34m=\u001b[0m \u001b[0mSolo8Robot\u001b[0m\u001b[0;34m(\u001b[0m\u001b[0;34m)\u001b[0m\u001b[0;34m\u001b[0m\u001b[0;34m\u001b[0m\u001b[0m\n\u001b[1;32m      3\u001b[0m \u001b[0mbullet_env\u001b[0m\u001b[0;34m.\u001b[0m\u001b[0madd_robot\u001b[0m\u001b[0;34m(\u001b[0m\u001b[0mrobot\u001b[0m\u001b[0;34m)\u001b[0m\u001b[0;34m\u001b[0m\u001b[0;34m\u001b[0m\u001b[0m\n",
      "\u001b[0;32m~/Desktop/dev/workspace/install/bullet_utils/lib/python3.6/site-packages/bullet_utils/env.py\u001b[0m in \u001b[0;36m__init__\u001b[0;34m(self, server, dt)\u001b[0m\n\u001b[1;32m    111\u001b[0m     \"\"\"    \n\u001b[1;32m    112\u001b[0m     \u001b[0;32mdef\u001b[0m \u001b[0m__init__\u001b[0m\u001b[0;34m(\u001b[0m\u001b[0mself\u001b[0m\u001b[0;34m,\u001b[0m \u001b[0mserver\u001b[0m\u001b[0;34m=\u001b[0m\u001b[0mpybullet\u001b[0m\u001b[0;34m.\u001b[0m\u001b[0mGUI\u001b[0m\u001b[0;34m,\u001b[0m \u001b[0mdt\u001b[0m\u001b[0;34m=\u001b[0m\u001b[0;36m0.001\u001b[0m\u001b[0;34m)\u001b[0m\u001b[0;34m:\u001b[0m\u001b[0;34m\u001b[0m\u001b[0;34m\u001b[0m\u001b[0m\n\u001b[0;32m--> 113\u001b[0;31m         \u001b[0msuper\u001b[0m\u001b[0;34m(\u001b[0m\u001b[0;34m)\u001b[0m\u001b[0;34m.\u001b[0m\u001b[0m__init__\u001b[0m\u001b[0;34m(\u001b[0m\u001b[0mserver\u001b[0m\u001b[0;34m,\u001b[0m \u001b[0mdt\u001b[0m\u001b[0;34m)\u001b[0m\u001b[0;34m\u001b[0m\u001b[0;34m\u001b[0m\u001b[0m\n\u001b[0m\u001b[1;32m    114\u001b[0m         \u001b[0;32mwith\u001b[0m \u001b[0mimportlib_resources\u001b[0m\u001b[0;34m.\u001b[0m\u001b[0mpath\u001b[0m\u001b[0;34m(\u001b[0m\u001b[0m__package__\u001b[0m\u001b[0;34m,\u001b[0m \u001b[0;34m\"env.py\"\u001b[0m\u001b[0;34m)\u001b[0m \u001b[0;32mas\u001b[0m \u001b[0mp\u001b[0m\u001b[0;34m:\u001b[0m\u001b[0;34m\u001b[0m\u001b[0;34m\u001b[0m\u001b[0m\n\u001b[1;32m    115\u001b[0m             \u001b[0mpackage_dir\u001b[0m \u001b[0;34m=\u001b[0m \u001b[0mp\u001b[0m\u001b[0;34m.\u001b[0m\u001b[0mparent\u001b[0m\u001b[0;34m.\u001b[0m\u001b[0mabsolute\u001b[0m\u001b[0;34m(\u001b[0m\u001b[0;34m)\u001b[0m\u001b[0;34m\u001b[0m\u001b[0;34m\u001b[0m\u001b[0m\n",
      "\u001b[0;32m~/Desktop/dev/workspace/install/bullet_utils/lib/python3.6/site-packages/bullet_utils/env.py\u001b[0m in \u001b[0;36m__init__\u001b[0;34m(self, server, dt)\u001b[0m\n\u001b[1;32m     37\u001b[0m         \u001b[0mself\u001b[0m\u001b[0;34m.\u001b[0m\u001b[0mrobots\u001b[0m \u001b[0;34m=\u001b[0m \u001b[0;34m[\u001b[0m\u001b[0;34m]\u001b[0m\u001b[0;34m\u001b[0m\u001b[0;34m\u001b[0m\u001b[0m\n\u001b[1;32m     38\u001b[0m \u001b[0;34m\u001b[0m\u001b[0m\n\u001b[0;32m---> 39\u001b[0;31m         \u001b[0mself\u001b[0m\u001b[0;34m.\u001b[0m\u001b[0mphysics_client\u001b[0m \u001b[0;34m=\u001b[0m \u001b[0mpybullet\u001b[0m\u001b[0;34m.\u001b[0m\u001b[0mconnect\u001b[0m\u001b[0;34m(\u001b[0m\u001b[0mserver\u001b[0m\u001b[0;34m)\u001b[0m\u001b[0;34m\u001b[0m\u001b[0;34m\u001b[0m\u001b[0m\n\u001b[0m\u001b[1;32m     40\u001b[0m         \u001b[0mpybullet\u001b[0m\u001b[0;34m.\u001b[0m\u001b[0msetGravity\u001b[0m\u001b[0;34m(\u001b[0m\u001b[0;36m0\u001b[0m\u001b[0;34m,\u001b[0m \u001b[0;36m0\u001b[0m\u001b[0;34m,\u001b[0m \u001b[0;34m-\u001b[0m\u001b[0;36m9.81\u001b[0m\u001b[0;34m)\u001b[0m\u001b[0;34m\u001b[0m\u001b[0;34m\u001b[0m\u001b[0m\n\u001b[1;32m     41\u001b[0m         \u001b[0mpybullet\u001b[0m\u001b[0;34m.\u001b[0m\u001b[0msetPhysicsEngineParameter\u001b[0m\u001b[0;34m(\u001b[0m\u001b[0mfixedTimeStep\u001b[0m\u001b[0;34m=\u001b[0m\u001b[0mdt\u001b[0m\u001b[0;34m,\u001b[0m \u001b[0mnumSubSteps\u001b[0m\u001b[0;34m=\u001b[0m\u001b[0;36m1\u001b[0m\u001b[0;34m)\u001b[0m\u001b[0;34m\u001b[0m\u001b[0;34m\u001b[0m\u001b[0m\n",
      "\u001b[0;31merror\u001b[0m: Only one local in-process GUI/GUI_SERVER connection allowed. Use DIRECT connection mode or start a separate GUI physics server (ExampleBrowser, App_SharedMemoryPhysics_GUI, App_SharedMemoryPhysics_VR) and connect over SHARED_MEMORY, UDP or TCP instead."
     ]
    }
   ],
   "source": [
    "bullet_env = BulletEnvWithGround()\n",
    "robot = Solo8Robot()\n",
    "bullet_env.add_robot(robot)"
   ]
  },
  {
   "cell_type": "code",
   "execution_count": 10,
   "id": "2723ec22",
   "metadata": {},
   "outputs": [],
   "source": [
    "head = SimHead(robot, vicon_name='solo8v2')\n",
    "thread_head = ThreadHead(\n",
    "    0.001,  # dt\n",
    "    HoldPDController(head, 3, 0.05, True),  # safety controller\n",
    "    head,  # head object\n",
    "    [  # utils\n",
    "        ('vicon', SimVicon(['solo8v2/solo8v2']))\n",
    "    ],\n",
    "    bullet_env  # env\n",
    ")"
   ]
  },
  {
   "cell_type": "code",
   "execution_count": 11,
   "id": "055e2ed1",
   "metadata": {},
   "outputs": [
    {
     "name": "stdout",
     "output_type": "stream",
     "text": [
      "0.0\n",
      "[array([ 0.,  0., -0.,  0.,  0.,  0.]), array([ 0.,  0.,  0.,  0.,  0.,  0.])]\n",
      "2\n"
     ]
    }
   ],
   "source": [
    "print(np.sum(np.array(robot.get_force()[1])[:, 2]))\n",
    "print(robot.get_force()[1])\n",
    "print(len(robot.get_force()[1]))"
   ]
  },
  {
   "cell_type": "code",
   "execution_count": 14,
   "id": "b2a73a51",
   "metadata": {},
   "outputs": [],
   "source": [
    "my_controller = MyController(head, 5, 0.05, with_sliders=False, num=250)\n",
    "\n",
    "q0 = np.array(Solo8Config.initial_configuration)\n",
    "q0[0] = 0.\n",
    "q0[2] = 0.26\n",
    "q0[-8:] = get_target(0.2, 0.2, 0.2, 0.2)\n",
    "\n",
    "thread_head.head.reset_state(q0, Solo8Config.initial_velocity)\n",
    "\n",
    "# thread_head.switch_controllers(my_controller)\n",
    "\n",
    "def reset():\n",
    "    thread_head.switch_controllers(ResetController())\n",
    "    thread_head.sim_run(100)\n",
    "    thread_head.switch_controllers(my_controller)\n",
    "\n",
    "reset()"
   ]
  },
  {
   "cell_type": "code",
   "execution_count": 15,
   "id": "19098d0a",
   "metadata": {
    "scrolled": true
   },
   "outputs": [
    {
     "name": "stdout",
     "output_type": "stream",
     "text": [
      "  Not logging 'head' as field type '<class 'dynamic_graph_head.sim_head.SimHead'>' is unsupported\n",
      "  Not logging 'with_sliders' as field type '<class 'bool'>' is unsupported\n",
      "  Not logging 'Targets' as field type '<class 'tuple'>' is unsupported\n",
      "  Not logging 'L' as field type '<class 'numpy.ndarray'>' is unsupported\n",
      "!!! ThreadHead: Start logging to file \"2021-07-28_17-24-19.mds\" for 30.00 seconds.\n",
      "!!! ThreadHead: Stop logging to file \"2021-07-28_17-24-19.mds\".\n"
     ]
    }
   ],
   "source": [
    "thread_head.start_logging()\n",
    "\n",
    "thread_head.sim_run(5000)\n",
    "\n",
    "thread_head.stop_logging()\n",
    "\n",
    "\n",
    "# thread_head.plot_timing()  # Plot timing information."
   ]
  },
  {
   "cell_type": "code",
   "execution_count": 16,
   "id": "f618a5f5",
   "metadata": {},
   "outputs": [],
   "source": [
    "reader = DataReader('2021-07-28_17-24-19_solo8_simul.mds')"
   ]
  },
  {
   "cell_type": "code",
   "execution_count": 18,
   "id": "dc7aee2b",
   "metadata": {},
   "outputs": [
    {
     "data": {
      "text/plain": [
       "dict_keys(['Kp', 'Kd', 'slider_scale', 'joint_positions', 'joint_velocities', 'i_Targets', 'i_L', 'num', 'fz', 'zero_pos', 'des_position', 'vicon_solo', 'tau'])"
      ]
     },
     "execution_count": 18,
     "metadata": {},
     "output_type": "execute_result"
    }
   ],
   "source": [
    "reader.data.keys()"
   ]
  },
  {
   "cell_type": "code",
   "execution_count": 24,
   "id": "065a827b",
   "metadata": {},
   "outputs": [
    {
     "data": {
      "text/plain": [
       "[<matplotlib.lines.Line2D at 0x7faf10122d68>,\n",
       " <matplotlib.lines.Line2D at 0x7faf10122dd8>]"
      ]
     },
     "execution_count": 24,
     "metadata": {},
     "output_type": "execute_result"
    },
    {
     "data": {
      "image/png": "[encoded data removed]",
      "text/plain": [
       "<Figure size 864x576 with 1 Axes>"
      ]
     },
     "metadata": {
      "needs_background": "light"
     },
     "output_type": "display_data"
    }
   ],
   "source": [
    "s = slice(1000, 2000)\n",
    "plt.plot(reader.data['fz'][s, 1:3])"
   ]
  },
  {
   "cell_type": "code",
   "execution_count": 43,
   "id": "e927a3ef",
   "metadata": {},
   "outputs": [
    {
     "name": "stdout",
     "output_type": "stream",
     "text": [
      "7\n",
      "13\n",
      "19\n",
      "25\n"
     ]
    },
    {
     "data": {
      "text/plain": [
       "array([ 0.18169, -0.0021 , -0.3634 , -0.05631,  0.02849, -0.01282,\n",
       "       -0.077  , -0.01257, -0.0328 , -0.0328 ,  0.0331 ,  0.0331 ,\n",
       "        0.03615,  0.03615])"
      ]
     },
     "execution_count": 43,
     "metadata": {},
     "output_type": "execute_result"
    }
   ],
   "source": [
    "mass = np.sum([i.mass for i in robot.pin_robot.model.inertias])\n",
    "Fz = 9.81 * mass / 4.\n",
    "\n",
    "vicon = thread_head.vicon.get_state('solo8v2/solo8v2')\n",
    "q = np.hstack((vicon[0], head.get_sensor('joint_positions')))\n",
    "v = np.hstack((vicon[1], head.get_sensor('joint_velocities')))\n",
    "\n",
    "h = robot.pin_robot.nle(q, v)\n",
    "\n",
    "robot.pin_robot.computeJointJacobians(q)\n",
    "\n",
    "rhs = np.zeros(14)\n",
    "f = np.zeros((4,3))\n",
    "idx, F = robot.get_force()\n",
    "\n",
    "endeff_ids = []\n",
    "for i in range(4):\n",
    "    endeff_ids += [robot.pin_robot.model.getFrameId(robot.endeff_names[i])]\n",
    "\n",
    "for i in range(4):\n",
    "    f[i] = -F[idx.index(endeff_ids[i])][:3]\n",
    "    \n",
    "STtau = np.zeros(14)\n",
    "STtau[6:] = thread_head.active_controllers[0].tau\n",
    "\n",
    "rhs += STtau\n",
    "\n",
    "for i in range(4):\n",
    "    frame_id = robot.pin_robot.model.getFrameId(robot.endeff_names[i])\n",
    "    \n",
    "    print(frame_id)\n",
    "    robot.pin_robot.framePlacement(q, index=frame_id)\n",
    "    \n",
    "    J = robot.pin_robot.getFrameJacobian(frame_id=frame_id, rf_frame=pin.ReferenceFrame.LOCAL_WORLD_ALIGNED)\n",
    "    rhs += J[:3].T @ f[i]\n",
    "\n",
    "rhs - h"
   ]
  },
  {
   "cell_type": "markdown",
   "id": "28712178",
   "metadata": {
    "heading_collapsed": true
   },
   "source": [
    "# Unused"
   ]
  },
  {
   "cell_type": "code",
   "execution_count": null,
   "id": "fa0c0e23",
   "metadata": {
    "code_folding": [],
    "hidden": true
   },
   "outputs": [],
   "source": [
    "'''\n",
    "class CentroidalController:\n",
    "    def __init__(self, head, vicon_name, mu, kp, kd, kc, dc, kb, db):\n",
    "        self.set_k(kp, kd)\n",
    "        self.robot = Solo8Config.buildRobotWrapper()\n",
    "        self.vicon_name = vicon_name\n",
    "\n",
    "        self.x_com = [0.0, 0.0, 0.20]\n",
    "        self.xd_com = [0.0, 0.0, 0.0]\n",
    "\n",
    "#         self.x_des = np.array([ \n",
    "#              0.2, 0.142, 0.015,  0.2, -0.142,  0.015,\n",
    "#             -0.2, 0.142, 0.015, -0.2, -0.142,  0.015\n",
    "#         ])\n",
    "        self.x_des = np.array([ \n",
    "            0.142, 0.015, -0.142,  0.015,\n",
    "            0.142, 0.015, -0.142,  0.015\n",
    "        ])\n",
    "        \n",
    "        self.xd_des = np.array(4*[0., 0.])\n",
    "\n",
    "        self.x_ori = [0., 0., 0., 1.]\n",
    "        self.x_angvel = [0., 0., 0.]\n",
    "        self.cnt_array = 4*[1,]\n",
    "        \n",
    "        self.w_com = np.zeros(6)\n",
    "        \n",
    "        q_init = np.zeros(15)\n",
    "        q_init[7] = 1\n",
    "        self.centrl_pd_ctrl = mim_control_cpp.CentroidalPDController()\n",
    "        self.centrl_pd_ctrl.initialize(2.5, np.diag(self.robot.mass(q_init)[3:6, 3:6]))\n",
    "\n",
    "        self.force_qp = mim_control_cpp.CentroidalForceQPController()\n",
    "        self.force_qp.initialize(4, mu, np.array([5e5, 5e5, 5e5, 1e6, 1e6, 1e6]))\n",
    "                \n",
    "        root_name = 'universe'\n",
    "        endeff_names = ['FL_ANKLE', 'FR_ANKLE', 'HL_ANKLE', 'HR_ANKLE']\n",
    "        self.imp_ctrls = [mim_control_cpp.ImpedanceController() for eff_name in endeff_names]\n",
    "        for i, c in enumerate(self.imp_ctrls):\n",
    "            c.initialize(self.robot.model, root_name, endeff_names[i])\n",
    "        \n",
    "        self.kc = np.array(kc)\n",
    "        self.dc = np.array(dc)\n",
    "        self.kb = np.array(kb)\n",
    "        self.db = np.array(db)\n",
    "                \n",
    "        self.joint_positions = head.get_sensor('joint_positions')\n",
    "        self.joint_velocities = head.get_sensor('joint_velocities')\n",
    "        self.slider_positions = head.get_sensor('slider_positions')\n",
    "        self.imu_gyroscope = head.get_sensor('imu_gyroscope')\n",
    "\n",
    "    def set_k(self, kp, kd):\n",
    "        self.kp = 4 * [kp, kp, kp, 0, 0, 0]\n",
    "        self.kd = 4 * [kd, kd, kd, 0, 0, 0]\n",
    "\n",
    "    def warmup(self, thread):\n",
    "        thread.vicon.bias_position(self.vicon_name)\n",
    "        self.zero_sliders = self.slider_positions.copy()\n",
    "\n",
    "    def get_base(self, thread):\n",
    "        base_pos, base_vel = thread.vicon.get_state(self.vicon_name)\n",
    "        base_vel[3:] = self.imu_gyroscope\n",
    "        return base_pos, base_vel\n",
    "    \n",
    "    def run(self, thread):\n",
    "        base_pos, base_vel = self.get_base(thread)\n",
    "\n",
    "        self.q = np.hstack([base_pos, self.joint_positions])\n",
    "        self.dq = np.hstack([base_vel, self.joint_velocities])\n",
    "\n",
    "        self.w_com[:] = 0\n",
    "        \n",
    "        self.centrl_pd_ctrl.run(\n",
    "            self.kc, self.dc, self.kb, self.db,\n",
    "            self.q[:3], self.x_com, self.dq[:3], self.xd_com,\n",
    "            self.q[3:7], self.x_ori, self.dq[3:6], self.x_angvel\n",
    "        )\n",
    "        \n",
    "        self.w_com[2] = 9.81 * Solo12Config.mass\n",
    "        self.w_com += self.centrl_pd_ctrl.get_wrench()\n",
    "        \n",
    "        if hasattr(self, 'update_w_com'):\n",
    "            self.update_w_com(thread)\n",
    "        \n",
    "        # distrubuting forces to the active end effectors\n",
    "        pin_robot = self.robot\n",
    "        pin_robot.framesForwardKinematics(self.q)\n",
    "        com = self.com = pin_robot.com(self.q)\n",
    "        rel_eff = np.array([\n",
    "            pin_robot.data.oMf[i].translation - com for i in Solo12Config.end_eff_ids\n",
    "        ]).reshape(-1)\n",
    "                \n",
    "        ext_cnt_array = [1., 1., 1., 1.]\n",
    "        self.force_qp.run(self.w_com, rel_eff, ext_cnt_array)\n",
    "        self.F = self.force_qp.get_forces()\n",
    "        \n",
    "        if hasattr(self, 'update_F'):\n",
    "            self.update_F(thread)\n",
    "        \n",
    "        # passing forces to the impedance controller\n",
    "        self.tau = np.zeros(18)\n",
    "        for i, c in enumerate(self.imp_ctrls):\n",
    "            c.run(self.q, self.dq,\n",
    "                 np.array(self.kp[6*i:6*(i+1)]),\n",
    "                 np.array(self.kd[6*i:6*(i+1)]),\n",
    "                 1.,\n",
    "                 pin.SE3(np.eye(3), np.array(self.x_des[3*i:3*(i+1)])),\n",
    "                 pin.Motion(self.xd_des[3*i:3*(i+1)], np.zeros(3)),\n",
    "                 pin.Force(self.F[3*i:3*(i+1)], np.zeros(3))\n",
    "             )\n",
    "\n",
    "            self.tau += c.get_torques()\n",
    "                \n",
    "        head.set_control('ctrl_joint_torques', self.tau[6:])\n",
    "'''"
   ]
  }
 ],
 "metadata": {
  "kernelspec": {
   "display_name": "Python 3",
   "language": "python",
   "name": "python3"
  },
  "language_info": {
   "codemirror_mode": {
    "name": "ipython",
    "version": 3
   },
   "file_extension": ".py",
   "mimetype": "text/x-python",
   "name": "python",
   "nbconvert_exporter": "python",
   "pygments_lexer": "ipython3",
   "version": "3.6.9"
  }
 },
 "nbformat": 4,
 "nbformat_minor": 5
}
