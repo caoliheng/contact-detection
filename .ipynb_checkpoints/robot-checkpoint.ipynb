{
 "cells": [
  {
   "cell_type": "code",
   "execution_count": 1,
   "id": "47c52751",
   "metadata": {},
   "outputs": [],
   "source": [
    "# %matplotlib notebook\n",
    "%matplotlib inline\n",
    "\n",
    "from my_functions import *\n",
    "\n",
    "import time\n",
    "import numpy as np\n",
    "import matplotlib.pyplot as plt\n",
    "\n",
    "import dynamic_graph_manager_cpp_bindings\n",
    "from robot_properties_solo.solo8wrapper import Solo8Config "
   ]
  },
  {
   "cell_type": "code",
   "execution_count": 3,
   "id": "f3137367",
   "metadata": {},
   "outputs": [
    {
     "ename": "KeyboardInterrupt",
     "evalue": "",
     "output_type": "error",
     "traceback": [
      "\u001b[0;31m---------------------------------------------------------------------------\u001b[0m",
      "\u001b[0;31mKeyboardInterrupt\u001b[0m                         Traceback (most recent call last)",
      "\u001b[0;32m<ipython-input-3-68110e86c137>\u001b[0m in \u001b[0;36m<module>\u001b[0;34m\u001b[0m\n\u001b[1;32m     62\u001b[0m \u001b[0;31m#         stored_t.append(next_time)\u001b[0m\u001b[0;34m\u001b[0m\u001b[0;34m\u001b[0m\u001b[0;34m\u001b[0m\u001b[0m\n\u001b[1;32m     63\u001b[0m \u001b[0;34m\u001b[0m\u001b[0m\n\u001b[0;32m---> 64\u001b[0;31m     \u001b[0mtime\u001b[0m\u001b[0;34m.\u001b[0m\u001b[0msleep\u001b[0m\u001b[0;34m(\u001b[0m\u001b[0;36m0.0001\u001b[0m\u001b[0;34m)\u001b[0m\u001b[0;34m\u001b[0m\u001b[0;34m\u001b[0m\u001b[0m\n\u001b[0m",
      "\u001b[0;31mKeyboardInterrupt\u001b[0m: "
     ]
    }
   ],
   "source": [
    "# Create the dgm communication to the control process.\n",
    "head = dynamic_graph_manager_cpp_bindings.DGMHead(Solo8Config.dgm_yaml_path)\n",
    "\n",
    "K = 5\n",
    "D = 0.1\n",
    "dt = 0.001\n",
    "next_time = time.time() + dt\n",
    "\n",
    "leg_down = 0.1\n",
    "leg_up = 0.2\n",
    "_E = -0.015  # extension constant\n",
    "\n",
    "Targets = (\n",
    "    get_target(leg_down-_E, leg_down, leg_up, leg_up, leg_up, leg_up, leg_down+_E, leg_down),\n",
    "    get_target(leg_up, leg_up, leg_down-_E, leg_down, leg_down+_E, leg_down, leg_up, leg_up),\n",
    "#     get_target(leg_down+_E, leg_up, leg_up, leg_down-_E),\n",
    "#     get_target(leg_up, leg_down+_E, leg_down-_E, leg_up),\n",
    ")\n",
    "\n",
    "L = None\n",
    "i_Targets = 0\n",
    "i_L = -1\n",
    "\n",
    "stored_P = []\n",
    "stored_V = []\n",
    "stored_t = []\n",
    "\n",
    "\n",
    "slider_P = head.get_sensor('slider_positions')\n",
    "joint_P = head.get_sensor('joint_positions')\n",
    "joint_V = head.get_sensor('joint_velocities')\n",
    "\n",
    "while True:\n",
    "    if time.time() >= next_time:\n",
    "        next_time += dt\n",
    "        \n",
    "        head.read()\n",
    "        \n",
    "        if slider_P[1] > 0.5:\n",
    "            head.set_control('ctrl_joint_torques', np.zeros(8))\n",
    "            head.write()\n",
    "            break\n",
    "\n",
    "        if L is None or i_L >= len(L):\n",
    "            L = np.linspace(joint_P, Targets[i_Targets], num=250)\n",
    "            i_L = 0\n",
    "            i_Targets = (i_Targets + 1) % len(Targets)\n",
    "\n",
    "\n",
    "        target = L[i_L]\n",
    "        i_L += 1\n",
    "\n",
    "        tau = K*(target - joint_P) - D*joint_V\n",
    "#         tau = np.zeros(8)\n",
    "\n",
    "        # write\n",
    "        head.set_control('ctrl_joint_torques', tau)\n",
    "        head.write()\n",
    "        \n",
    "#         stored_P.append(np.array(joint_P, copy=True))\n",
    "#         stored_V.append(np.array(joint_V, copy=True))\n",
    "#         stored_t.append(next_time)\n",
    "\n",
    "    time.sleep(0.0001)"
   ]
  },
  {
   "cell_type": "code",
   "execution_count": 4,
   "id": "aeff9a44",
   "metadata": {},
   "outputs": [],
   "source": [
    "head = dynamic_graph_manager_cpp_bindings.DGMHead(Solo8Config.dgm_yaml_path)\n",
    "\n",
    "K = 5\n",
    "D = 0.1\n",
    "dt = 0.001\n",
    "next_time = time.time() + dt\n",
    "\n",
    "\n",
    "###\n",
    "leg_down = 0.1\n",
    "leg_up = 0.25\n",
    "extend = -0.015  # extension constant\n",
    "\n",
    "Targets = (\n",
    "    get_target(leg_down-extend, leg_down, leg_up, leg_up, leg_up, leg_up, leg_down+extend, leg_down),\n",
    "    get_target(leg_up, leg_up, leg_down-extend, leg_down, leg_down+extend, leg_down, leg_up, leg_up),\n",
    "    # get_target(leg_down-extend, leg_down, leg_up, leg_up, leg_up, leg_up, leg_down+extend, leg_down),  wrong direction\n",
    "    # get_target(leg_up, leg_up, leg_down-extend, leg_down, leg_down+extend, leg_down, leg_up, leg_up),\n",
    "    # get_target(leg_down, leg_up, leg_up, leg_down),\n",
    "    # get_target(leg_up, leg_down, leg_down, leg_up),\n",
    ")\n",
    "\n",
    "\n",
    "L = None\n",
    "i_Targets = 0\n",
    "i_L = -1\n",
    "\n",
    "\n",
    "# In your control loop:\n",
    "while True:\n",
    "    if time.time() >= next_time:\n",
    "        next_time += dt\n",
    "\n",
    "        # read\n",
    "        head.read()\n",
    "        slider_P = head.get_sensor('slider_positions')\n",
    "        joint_P = head.get_sensor('joint_positions')\n",
    "        joint_V = head.get_sensor('joint_velocities')\n",
    "\n",
    "        if slider_P[0] > 0.5:\n",
    "            head.set_control('ctrl_joint_torques', np.zeros(8))\n",
    "            head.write()\n",
    "            break\n",
    "\n",
    "        if L is None or i_L >= len(L):\n",
    "            L = np.linspace(joint_P, Targets[i_Targets], num=250)\n",
    "            i_L = 0\n",
    "            i_Targets = (i_Targets + 1) % len(Targets)\n",
    "\n",
    "\n",
    "        target = L[i_L]\n",
    "        i_L += 1\n",
    "\n",
    "        tau = K*(target - joint_P) - D*joint_V\n",
    "\n",
    "        # write\n",
    "        head.set_control('ctrl_joint_torques', tau)\n",
    "        head.write()\n",
    "\n",
    "    time.sleep(0.0001)"
   ]
  },
  {
   "cell_type": "code",
   "execution_count": 7,
   "id": "7024d191",
   "metadata": {},
   "outputs": [],
   "source": [
    "stored_P = np.array(stored_P)\n",
    "stored_V = np.array(stored_V)\n",
    "stored_t = np.array(stored_t)\n",
    "\n",
    "slice_data = slice(2000,7500)"
   ]
  },
  {
   "cell_type": "code",
   "execution_count": 6,
   "id": "f507b041",
   "metadata": {},
   "outputs": [
    {
     "name": "stdout",
     "output_type": "stream",
     "text": [
      "(9288, 8)\n",
      "(9288,)\n"
     ]
    }
   ],
   "source": [
    "print(stored_P.shape)\n",
    "print(stored_t.shape)"
   ]
  },
  {
   "cell_type": "code",
   "execution_count": 8,
   "id": "bfc3d9ea",
   "metadata": {
    "scrolled": true
   },
   "outputs": [
    {
     "data": {
      "text/plain": [
       "[<matplotlib.lines.Line2D at 0x7f5e8481bc18>]"
      ]
     },
     "execution_count": 8,
     "metadata": {},
     "output_type": "execute_result"
    },
    {
     "data": {
      "image/png": "[encoded data removed]",
      "text/plain": [
       "<Figure size 432x288 with 1 Axes>"
      ]
     },
     "metadata": {
      "needs_background": "light"
     },
     "output_type": "display_data"
    }
   ],
   "source": [
    "plt.plot(stored_P[slice_data, 2])"
   ]
  },
  {
   "cell_type": "code",
   "execution_count": 19,
   "id": "85a5bcc7",
   "metadata": {},
   "outputs": [
    {
     "data": {
      "text/plain": [
       "[<matplotlib.lines.Line2D at 0x7f5e7c3274a8>]"
      ]
     },
     "execution_count": 19,
     "metadata": {},
     "output_type": "execute_result"
    },
    {
     "data": {
      "image/png": "[encoded data removed]",
      "text/plain": [
       "<Figure size 432x288 with 1 Axes>"
      ]
     },
     "metadata": {
      "needs_background": "light"
     },
     "output_type": "display_data"
    }
   ],
   "source": [
    "plt.plot(\n",
    "    np.gradient(\n",
    "        stored_P[slice_data, 2]\n",
    "        \n",
    "    )\n",
    ")"
   ]
  },
  {
   "cell_type": "code",
   "execution_count": 11,
   "id": "e1992013",
   "metadata": {
    "scrolled": true
   },
   "outputs": [
    {
     "data": {
      "text/plain": [
       "[<matplotlib.lines.Line2D at 0x7f5e7c61aac8>]"
      ]
     },
     "execution_count": 11,
     "metadata": {},
     "output_type": "execute_result"
    },
    {
     "data": {
      "image/png": "[encoded data removed]",
      "text/plain": [
       "<Figure size 432x288 with 1 Axes>"
      ]
     },
     "metadata": {
      "needs_background": "light"
     },
     "output_type": "display_data"
    }
   ],
   "source": [
    "plt.plot(stored_V[slice_data, 2])"
   ]
  },
  {
   "cell_type": "code",
   "execution_count": 14,
   "id": "b7665d4b",
   "metadata": {},
   "outputs": [
    {
     "data": {
      "text/plain": [
       "[<matplotlib.lines.Line2D at 0x7f5e7c53fdd8>]"
      ]
     },
     "execution_count": 14,
     "metadata": {},
     "output_type": "execute_result"
    },
    {
     "data": {
      "image/png": "[encoded data removed]",
      "text/plain": [
       "<Figure size 432x288 with 1 Axes>"
      ]
     },
     "metadata": {
      "needs_background": "light"
     },
     "output_type": "display_data"
    }
   ],
   "source": [
    "plt.plot(\n",
    "    np.gradient(\n",
    "        stored_V[slice_data,2]\n",
    "    )\n",
    ")"
   ]
  },
  {
   "cell_type": "markdown",
   "id": "c500742e",
   "metadata": {},
   "source": [
    "# slider"
   ]
  },
  {
   "cell_type": "code",
   "execution_count": null,
   "id": "de139dee",
   "metadata": {},
   "outputs": [],
   "source": [
    "# Create the dgm communication to the control process.\n",
    "head = dynamic_graph_manager_cpp_bindings.DGMHead(Solo8Config.dgm_yaml_path)\n",
    "\n",
    "\n",
    "D = 0.05\n",
    "dt = 0.001\n",
    "next_time = time.time() + dt\n",
    "\n",
    "K = 5\n",
    "\n",
    "angle_adjust = np.array([1,-2,1,-2,-1,2,-1,2]) * np.pi\n",
    "\n",
    "\n",
    "# In your control loop:\n",
    "# head.read()\n",
    "slider_P = head.get_sensor('slider_positions')\n",
    "joint_P = head.get_sensor('joint_positions')\n",
    "joint_V = head.get_sensor('joint_velocities')\n",
    "while (True):\n",
    "    if time.time() >= next_time:\n",
    "        next_time += dt\n",
    "\n",
    "        head.read()\n",
    "        \n",
    "        if slider_P[1] > 0.5:  # exit\n",
    "            head.set_control('ctrl_joint_torques', np.zeros(8))\n",
    "            head.write()\n",
    "            break\n",
    "        \n",
    "        if slider_P[0]/2 *np.pi > 2.7:\n",
    "            tau = np.zeros(8)\n",
    "        else:\n",
    "            target = slider_P[0]/2 * angle_adjust\n",
    "            target[:6] = np.zeros(6)\n",
    "\n",
    "            tau = K*(target - joint_P) - D*joint_V\n",
    "\n",
    "        head.set_control('ctrl_joint_torques', tau)\n",
    "        head.write()\n",
    "\n",
    "    time.sleep(0.0001)"
   ]
  }
 ],
 "metadata": {
  "kernelspec": {
   "display_name": "Python 3",
   "language": "python",
   "name": "python3"
  },
  "language_info": {
   "codemirror_mode": {
    "name": "ipython",
    "version": 3
   },
   "file_extension": ".py",
   "mimetype": "text/x-python",
   "name": "python",
   "nbconvert_exporter": "python",
   "pygments_lexer": "ipython3",
   "version": "3.6.9"
  }
 },
 "nbformat": 4,
 "nbformat_minor": 5
}
