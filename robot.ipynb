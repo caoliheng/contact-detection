{
 "cells": [
  {
   "cell_type": "markdown",
   "id": "9ae37f50-c8c4-4378-86aa-3aa7219e811d",
   "metadata": {},
   "source": [
    "# Imports"
   ]
  },
  {
   "cell_type": "code",
   "execution_count": null,
   "id": "47c52751",
   "metadata": {
    "jupyter": {
     "source_hidden": true
    },
    "tags": []
   },
   "outputs": [],
   "source": [
    "# %matplotlib notebook \n",
    "%matplotlib inline\n",
    "\n",
    "from my_functions import *\n",
    "\n",
    "import time\n",
    "import numpy as np\n",
    "import matplotlib.pyplot as plt\n",
    "\n",
    "import dynamic_graph_manager_cpp_bindings\n",
    "from robot_properties_solo.solo8wrapper import Solo8Config "
   ]
  },
  {
   "cell_type": "markdown",
   "id": "95c4aef2-3e66-42d1-9d60-947accd0b994",
   "metadata": {},
   "source": [
    "# Run : store contact values"
   ]
  },
  {
   "cell_type": "code",
   "execution_count": null,
   "id": "f3137367",
   "metadata": {
    "jupyter": {
     "source_hidden": true
    },
    "tags": []
   },
   "outputs": [],
   "source": [
    "# Create the dgm communication to the control process.\n",
    "head = dynamic_graph_manager_cpp_bindings.DGMHead(Solo8Config.dgm_yaml_path)\n",
    "\n",
    "K = 5\n",
    "D = 0.1\n",
    "dt = 0.001\n",
    "next_time = time.time() + dt\n",
    "\n",
    "\n",
    "stored_P = []\n",
    "stored_V = []\n",
    "stored_t = []\n",
    "stored_C = []\n",
    "\n",
    "\n",
    "slider_P = head.get_sensor('slider_positions')\n",
    "joint_P = head.get_sensor('joint_positions')\n",
    "joint_V = head.get_sensor('joint_velocities')\n",
    "contact = head.get_sensor('contact_sensors')\n",
    "\n",
    "while True:\n",
    "    if time.time() >= next_time:\n",
    "        next_time += dt\n",
    "        \n",
    "        head.read()\n",
    "        \n",
    "        if slider_P[1] > 0.5 or contact[0] < 0.5:\n",
    "            head.set_control('ctrl_joint_torques', np.zeros(8))\n",
    "            head.write()\n",
    "            break\n",
    "\n",
    "#         tau = K*(target - joint_P) - D*joint_V\n",
    "        tau = np.zeros(8)\n",
    "\n",
    "        # write\n",
    "        head.set_control('ctrl_joint_torques', tau)\n",
    "        head.write()\n",
    "        \n",
    "#         stored_P.append(np.array(joint_P, copy=True))\n",
    "#         stored_V.append(np.array(joint_V, copy=True))\n",
    "#         stored_t.append(next_time)\n",
    "        stored_C.append(np.array(contact, copy=True))\n",
    "\n",
    "    time.sleep(0.0001)"
   ]
  },
  {
   "cell_type": "markdown",
   "id": "42ab88e1-c14c-4dd9-8fa7-bcb118effa4c",
   "metadata": {},
   "source": [
    "# Run : trot forward \n",
    "## Unstable"
   ]
  },
  {
   "cell_type": "code",
   "execution_count": 4,
   "id": "aeff9a44",
   "metadata": {
    "jupyter": {
     "source_hidden": true
    },
    "tags": []
   },
   "outputs": [],
   "source": [
    "head = dynamic_graph_manager_cpp_bindings.DGMHead(Solo8Config.dgm_yaml_path)\n",
    "\n",
    "K = 5\n",
    "D = 0.1\n",
    "dt = 0.001\n",
    "next_time = time.time() + dt\n",
    "\n",
    "\n",
    "###\n",
    "leg_down = 0.1\n",
    "leg_up = 0.25\n",
    "extend = -0.015  # extension constant\n",
    "\n",
    "Targets = (\n",
    "    get_target(leg_down-extend, leg_down, leg_up, leg_up, leg_up, leg_up, leg_down+extend, leg_down),\n",
    "    get_target(leg_up, leg_up, leg_down-extend, leg_down, leg_down+extend, leg_down, leg_up, leg_up),\n",
    ")\n",
    "\n",
    "\n",
    "L = None\n",
    "i_Targets = 0\n",
    "i_L = 0\n",
    "\n",
    "\n",
    "slider_P = head.get_sensor('slider_positions')\n",
    "joint_P = head.get_sensor('joint_positions')\n",
    "joint_V = head.get_sensor('joint_velocities')\n",
    "contact = head.get_sensor('contact_sensors')\n",
    "\n",
    "\n",
    "# In your control loop:\n",
    "while True:\n",
    "    if time.time() >= next_time:\n",
    "        next_time += dt\n",
    "\n",
    "        # read\n",
    "        head.read()\n",
    "        \n",
    "        if slider_P[0] > 0.5:\n",
    "            head.set_control('ctrl_joint_torques', np.zeros(8))\n",
    "            head.write()\n",
    "            break\n",
    "\n",
    "        if L is None or i_L >= len(L):\n",
    "            L = np.linspace(joint_P, Targets[i_Targets], num=250)\n",
    "            i_L = 0\n",
    "            i_Targets = (i_Targets + 1) % len(Targets)\n",
    "\n",
    "\n",
    "        target = L[i_L]\n",
    "        i_L += 1\n",
    "\n",
    "        tau = K*(target - joint_P) - D*joint_V\n",
    "\n",
    "        # write\n",
    "        head.set_control('ctrl_joint_torques', tau)\n",
    "        head.write()\n",
    "\n",
    "    time.sleep(0.0001)"
   ]
  },
  {
   "cell_type": "markdown",
   "id": "c500742e",
   "metadata": {},
   "source": [
    "# Run : Slider"
   ]
  },
  {
   "cell_type": "code",
   "execution_count": 3,
   "id": "de139dee",
   "metadata": {},
   "outputs": [
    {
     "name": "stdout",
     "output_type": "stream",
     "text": [
      "slider or contact break\n",
      "[0.00000000e+00 5.00976562e-01 0.00000000e+00 1.72034536e+06] [0.93554688 0.77124023 0.30981445 0.30200195]\n"
     ]
    }
   ],
   "source": [
    "# Create the dgm communication to the control process.\n",
    "head = dynamic_graph_manager_cpp_bindings.DGMHead(Solo8Config.dgm_yaml_path)\n",
    "\n",
    "\n",
    "D = 0.05\n",
    "dt = 0.001\n",
    "next_time = time.time() + dt\n",
    "\n",
    "K = 5\n",
    "\n",
    "angle_adjust = np.array([1,-2,1,-2,-1,2,-1,2]) * np.pi\n",
    "\n",
    "\n",
    "# In your control loop:\n",
    "# head.read()\n",
    "slider_P = head.get_sensor('slider_positions')\n",
    "joint_P = head.get_sensor('joint_positions')\n",
    "joint_V = head.get_sensor('joint_velocities')\n",
    "contact = head.get_sensor('contact_sensors')\n",
    "\n",
    "\n",
    "while (True):\n",
    "    if time.time() >= next_time:\n",
    "        next_time += dt\n",
    "\n",
    "        head.read()\n",
    "        \n",
    "        if slider_P[1] > 0.5 or contact[0] < 0.5:  # exit\n",
    "            head.set_control('ctrl_joint_torques', np.zeros(8))\n",
    "            head.write()\n",
    "            break\n",
    "        \n",
    "        if slider_P[0]/2 *np.pi > 2.7:\n",
    "            tau = np.zeros(8)\n",
    "        else:\n",
    "            target = slider_P[0]/2 * angle_adjust\n",
    "            target[2:] = np.zeros(6)\n",
    "\n",
    "            tau = K*(target - joint_P) - D*joint_V\n",
    "\n",
    "        head.set_control('ctrl_joint_torques', tau)\n",
    "        head.write()\n",
    "\n",
    "    time.sleep(0.0001)\n",
    "    \n",
    "print(slider_P, contact)"
   ]
  }
 ],
 "metadata": {
  "kernelspec": {
   "display_name": "Python 3",
   "language": "python",
   "name": "python3"
  },
  "language_info": {
   "codemirror_mode": {
    "name": "ipython",
    "version": 3
   },
   "file_extension": ".py",
   "mimetype": "text/x-python",
   "name": "python",
   "nbconvert_exporter": "python",
   "pygments_lexer": "ipython3",
   "version": "3.6.9"
  }
 },
 "nbformat": 4,
 "nbformat_minor": 5
}
